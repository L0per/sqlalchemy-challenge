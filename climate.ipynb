{
 "cells": [
  {
   "cell_type": "code",
   "execution_count": 1,
   "metadata": {},
   "outputs": [],
   "source": [
    "%matplotlib inline\n",
    "from matplotlib import style\n",
    "style.use('fivethirtyeight')\n",
    "import matplotlib.pyplot as plt"
   ]
  },
  {
   "cell_type": "code",
   "execution_count": 2,
   "metadata": {},
   "outputs": [],
   "source": [
    "import numpy as np\n",
    "import pandas as pd"
   ]
  },
  {
   "cell_type": "code",
   "execution_count": 3,
   "metadata": {},
   "outputs": [],
   "source": [
    "import datetime as dt"
   ]
  },
  {
   "cell_type": "markdown",
   "metadata": {},
   "source": [
    "# Reflect Tables into SQLAlchemy ORM"
   ]
  },
  {
   "cell_type": "code",
   "execution_count": 4,
   "metadata": {},
   "outputs": [],
   "source": [
    "# Python SQL toolkit and Object Relational Mapper\n",
    "import sqlalchemy\n",
    "from sqlalchemy.ext.automap import automap_base\n",
    "from sqlalchemy.orm import Session\n",
    "from sqlalchemy import create_engine, func\n",
    "from sqlalchemy import inspect"
   ]
  },
  {
   "cell_type": "code",
   "execution_count": 5,
   "metadata": {},
   "outputs": [],
   "source": [
    "# initialize engine\n",
    "engine = create_engine(\"sqlite:///Data/hawaii.sqlite\")"
   ]
  },
  {
   "cell_type": "code",
   "execution_count": 6,
   "metadata": {},
   "outputs": [],
   "source": [
    "# reflect an existing database into a new model\n",
    "Base = automap_base()\n",
    "# reflect the tables\n",
    "Base.prepare(engine, reflect=True)"
   ]
  },
  {
   "cell_type": "code",
   "execution_count": 7,
   "metadata": {},
   "outputs": [
    {
     "data": {
      "text/plain": [
       "['measurement', 'station']"
      ]
     },
     "execution_count": 7,
     "metadata": {},
     "output_type": "execute_result"
    }
   ],
   "source": [
    "# We can view all of the classes that automap found\n",
    "Base.classes.keys()"
   ]
  },
  {
   "cell_type": "code",
   "execution_count": 8,
   "metadata": {},
   "outputs": [],
   "source": [
    "# Save references to each table\n",
    "Measurement = Base.classes.measurement\n",
    "Station = Base.classes.station"
   ]
  },
  {
   "cell_type": "code",
   "execution_count": 9,
   "metadata": {},
   "outputs": [],
   "source": [
    "# Create our session (link) from Python to the DB\n",
    "session = Session(engine)"
   ]
  },
  {
   "cell_type": "markdown",
   "metadata": {},
   "source": [
    "# Step 1: Climate Analysis and Exploration"
   ]
  },
  {
   "cell_type": "code",
   "execution_count": 10,
   "metadata": {},
   "outputs": [
    {
     "name": "stdout",
     "output_type": "stream",
     "text": [
      "Table: measurement\n",
      "-------------\n",
      "Column: id, INTEGER\n",
      "Column: station, TEXT\n",
      "Column: date, TEXT\n",
      "Column: prcp, FLOAT\n",
      "Column: tobs, FLOAT\n",
      "--------------------------------------\n",
      "\n",
      "Table: station\n",
      "-------------\n",
      "Column: id, INTEGER\n",
      "Column: station, TEXT\n",
      "Column: name, TEXT\n",
      "Column: latitude, FLOAT\n",
      "Column: longitude, FLOAT\n",
      "Column: elevation, FLOAT\n",
      "--------------------------------------\n",
      "\n"
     ]
    }
   ],
   "source": [
    "# Preview tables, columns, and data types\n",
    "inspector = inspect(engine)\n",
    "\n",
    "for table_name in inspector.get_table_names():\n",
    "    print(f'Table: {table_name}')\n",
    "    print('-------------')\n",
    "    for column in inspector.get_columns(table_name):\n",
    "        print(f\"Column: {column['name']}, {column['type']}\")\n",
    "    print('--------------------------------------')\n",
    "    print('')"
   ]
  },
  {
   "cell_type": "markdown",
   "metadata": {},
   "source": [
    "## Import last year precipitation data into Pandas and plot"
   ]
  },
  {
   "cell_type": "code",
   "execution_count": 11,
   "metadata": {},
   "outputs": [
    {
     "data": {
      "text/html": [
       "<div>\n",
       "<style scoped>\n",
       "    .dataframe tbody tr th:only-of-type {\n",
       "        vertical-align: middle;\n",
       "    }\n",
       "\n",
       "    .dataframe tbody tr th {\n",
       "        vertical-align: top;\n",
       "    }\n",
       "\n",
       "    .dataframe thead th {\n",
       "        text-align: right;\n",
       "    }\n",
       "</style>\n",
       "<table border=\"1\" class=\"dataframe\">\n",
       "  <thead>\n",
       "    <tr style=\"text-align: right;\">\n",
       "      <th></th>\n",
       "      <th>Precipitation</th>\n",
       "    </tr>\n",
       "    <tr>\n",
       "      <th>date</th>\n",
       "      <th></th>\n",
       "    </tr>\n",
       "  </thead>\n",
       "  <tbody>\n",
       "    <tr>\n",
       "      <th>2016-08-23</th>\n",
       "      <td>0.00</td>\n",
       "    </tr>\n",
       "    <tr>\n",
       "      <th>2016-08-23</th>\n",
       "      <td>0.15</td>\n",
       "    </tr>\n",
       "    <tr>\n",
       "      <th>2016-08-23</th>\n",
       "      <td>0.05</td>\n",
       "    </tr>\n",
       "    <tr>\n",
       "      <th>2016-08-23</th>\n",
       "      <td>NaN</td>\n",
       "    </tr>\n",
       "    <tr>\n",
       "      <th>2016-08-23</th>\n",
       "      <td>0.02</td>\n",
       "    </tr>\n",
       "  </tbody>\n",
       "</table>\n",
       "</div>"
      ],
      "text/plain": [
       "            Precipitation\n",
       "date                     \n",
       "2016-08-23           0.00\n",
       "2016-08-23           0.15\n",
       "2016-08-23           0.05\n",
       "2016-08-23            NaN\n",
       "2016-08-23           0.02"
      ]
     },
     "execution_count": 11,
     "metadata": {},
     "output_type": "execute_result"
    }
   ],
   "source": [
    "# Get date of last data point\n",
    "last_date = str(session.query(Measurement.date).order_by(Measurement.date.desc()).first())\n",
    "\n",
    "# Convert last date to datetime and subtract 1 year\n",
    "first_date = dt.datetime.strptime(last_date, \"('%Y-%m-%d',)\") - dt.timedelta(days=366)\n",
    "\n",
    "# Create query for pandas\n",
    "pandas_query = session.query(Measurement.date, Measurement.prcp).\\\n",
    "    filter(Measurement.date >= first_date).\\\n",
    "    order_by(Measurement.date.asc()).all()\n",
    "\n",
    "# Sum precipitation by date and set date as index\n",
    "prec_df = pd.DataFrame(pandas_query)\n",
    "prec_df.date = pd.to_datetime(prec_df.date)\n",
    "prec_df = prec_df.set_index(['date'])\n",
    "prec_df = prec_df.rename(columns={'prcp':'Precipitation'})\n",
    "\n",
    "prec_df.head()"
   ]
  },
  {
   "cell_type": "code",
   "execution_count": 12,
   "metadata": {},
   "outputs": [
    {
     "data": {
      "image/png": "[encoded data removed]",
      "text/plain": [
       "<Figure size 864x720 with 1 Axes>"
      ]
     },
     "metadata": {
      "needs_background": "light"
     },
     "output_type": "display_data"
    }
   ],
   "source": [
    "# Plot precipitation date\n",
    "fig,ax1 = plt.subplots(figsize=(12,10))\n",
    "prec_df.plot(ax=ax1, alpha = 0.5)\n",
    "\n",
    "# Ticks\n",
    "ax1.tick_params(axis='both', which='both', labelsize=12, pad=5)\n",
    "# # ax1.set_xticks([60, 100, 1000])\n",
    "\n",
    "# Labels\n",
    "ax1.set_title('Precipitation Over Last Year of Data', size=24, y = 1.02, x = 0.5)\n",
    "ax1.set_xlabel(\"Date\", fontsize = 20)\n",
    "ax1.set_ylabel(\"Precipitation (inches)\", fontsize = 20, labelpad = 15)\n",
    "\n",
    "# Legend\n",
    "ax1.get_legend().remove()\n",
    "\n",
    "# plt.show()\n",
    "plt.show()\n",
    "\n",
    "# Save figure\n",
    "fig.savefig('Images/prcp_year.png', bbox_inches=\"tight\")"
   ]
  },
  {
   "cell_type": "code",
   "execution_count": 13,
   "metadata": {},
   "outputs": [
    {
     "data": {
      "text/html": [
       "<div>\n",
       "<style scoped>\n",
       "    .dataframe tbody tr th:only-of-type {\n",
       "        vertical-align: middle;\n",
       "    }\n",
       "\n",
       "    .dataframe tbody tr th {\n",
       "        vertical-align: top;\n",
       "    }\n",
       "\n",
       "    .dataframe thead th {\n",
       "        text-align: right;\n",
       "    }\n",
       "</style>\n",
       "<table border=\"1\" class=\"dataframe\">\n",
       "  <thead>\n",
       "    <tr style=\"text-align: right;\">\n",
       "      <th></th>\n",
       "      <th>Precipitation</th>\n",
       "    </tr>\n",
       "  </thead>\n",
       "  <tbody>\n",
       "    <tr>\n",
       "      <th>count</th>\n",
       "      <td>2021.000000</td>\n",
       "    </tr>\n",
       "    <tr>\n",
       "      <th>mean</th>\n",
       "      <td>0.177279</td>\n",
       "    </tr>\n",
       "    <tr>\n",
       "      <th>std</th>\n",
       "      <td>0.461190</td>\n",
       "    </tr>\n",
       "    <tr>\n",
       "      <th>min</th>\n",
       "      <td>0.000000</td>\n",
       "    </tr>\n",
       "    <tr>\n",
       "      <th>25%</th>\n",
       "      <td>0.000000</td>\n",
       "    </tr>\n",
       "    <tr>\n",
       "      <th>50%</th>\n",
       "      <td>0.020000</td>\n",
       "    </tr>\n",
       "    <tr>\n",
       "      <th>75%</th>\n",
       "      <td>0.130000</td>\n",
       "    </tr>\n",
       "    <tr>\n",
       "      <th>max</th>\n",
       "      <td>6.700000</td>\n",
       "    </tr>\n",
       "  </tbody>\n",
       "</table>\n",
       "</div>"
      ],
      "text/plain": [
       "       Precipitation\n",
       "count    2021.000000\n",
       "mean        0.177279\n",
       "std         0.461190\n",
       "min         0.000000\n",
       "25%         0.000000\n",
       "50%         0.020000\n",
       "75%         0.130000\n",
       "max         6.700000"
      ]
     },
     "execution_count": 13,
     "metadata": {},
     "output_type": "execute_result"
    }
   ],
   "source": [
    "# Pandas summary statistics for the precipitation data\n",
    "prec_df.describe()"
   ]
  },
  {
   "cell_type": "markdown",
   "metadata": {},
   "source": [
    "## Import last year temperature data from the most active station into Pandas and plot"
   ]
  },
  {
   "cell_type": "code",
   "execution_count": 14,
   "metadata": {},
   "outputs": [
    {
     "data": {
      "text/plain": [
       "9"
      ]
     },
     "execution_count": 14,
     "metadata": {},
     "output_type": "execute_result"
    }
   ],
   "source": [
    "# Get total number of stations\n",
    "session.query(Measurement).distinct(Measurement.station).\\\n",
    "    group_by(Measurement.station).count()"
   ]
  },
  {
   "cell_type": "code",
   "execution_count": 15,
   "metadata": {},
   "outputs": [
    {
     "data": {
      "text/plain": [
       "[('USC00519281', 2772),\n",
       " ('USC00519397', 2724),\n",
       " ('USC00513117', 2709),\n",
       " ('USC00519523', 2669),\n",
       " ('USC00516128', 2612),\n",
       " ('USC00514830', 2202),\n",
       " ('USC00511918', 1979),\n",
       " ('USC00517948', 1372),\n",
       " ('USC00518838', 511)]"
      ]
     },
     "execution_count": 15,
     "metadata": {},
     "output_type": "execute_result"
    }
   ],
   "source": [
    "# List station activity in descending order (total row counts per station)\n",
    "session.query(Measurement.station, func.count(Measurement.station)).\\\n",
    "    group_by(Measurement.station).\\\n",
    "    order_by(func.count(Measurement.station).desc()).all()"
   ]
  },
  {
   "cell_type": "code",
   "execution_count": 16,
   "metadata": {},
   "outputs": [
    {
     "data": {
      "text/plain": [
       "[(54.0, 85.0, 71.66378066378067)]"
      ]
     },
     "execution_count": 16,
     "metadata": {},
     "output_type": "execute_result"
    }
   ],
   "source": [
    "# Find lowest, highest, and average temperatures from the most active station\n",
    "session.query(func.min(Measurement.tobs), func.max(Measurement.tobs), func.avg(Measurement.tobs)).\\\n",
    "    filter_by(station='USC00519281').all()"
   ]
  },
  {
   "cell_type": "code",
   "execution_count": 17,
   "metadata": {},
   "outputs": [
    {
     "data": {
      "text/plain": [
       "('USC00519281', 2772)"
      ]
     },
     "execution_count": 17,
     "metadata": {},
     "output_type": "execute_result"
    }
   ],
   "source": [
    "# Return station with greatest number of temperature observations\n",
    "session.query(Measurement.station, func.count(Measurement.tobs)).\\\n",
    "    group_by(Measurement.station).\\\n",
    "    order_by(func.count(Measurement.tobs).desc()).first()"
   ]
  },
  {
   "cell_type": "code",
   "execution_count": 18,
   "metadata": {},
   "outputs": [],
   "source": [
    "# Create query for last 12 months of temperature data for station USC00519281\n",
    "pandas_tobs_query = session.query(Measurement.tobs).\\\n",
    "    filter(Measurement.date >= first_date).\\\n",
    "    filter_by(station='USC00519281').all()\n",
    "\n",
    "# Create dataframe using query\n",
    "tobs_df = pd.DataFrame(pandas_tobs_query).rename(columns={'tobs':'Temperature'})"
   ]
  },
  {
   "cell_type": "code",
   "execution_count": 19,
   "metadata": {},
   "outputs": [
    {
     "data": {
      "image/png": "[encoded data removed]",
      "text/plain": [
       "<Figure size 864x720 with 1 Axes>"
      ]
     },
     "metadata": {
      "needs_background": "light"
     },
     "output_type": "display_data"
    }
   ],
   "source": [
    "# Plot last 12 months of temperature data from most active temperature reading station\n",
    "fig, ax1 = plt.subplots(figsize=(12,10))\n",
    "tobs_df.plot(kind='hist', ax=ax1, bins=12, alpha = 0.5)\n",
    "\n",
    "# Axis\n",
    "ax1.grid(axis='x')\n",
    "\n",
    "# Ticks\n",
    "ax1.tick_params(axis='y', which='both', labelsize=16, pad=5)\n",
    "ax1.tick_params(axis='x', which='both', labelsize=16, pad=5)\n",
    "\n",
    "# Labels\n",
    "ax1.set_title('12 Months of Temperature Observations for Waihee Station', size=24, y = 1.02, x = 0.5)\n",
    "ax1.set_xlabel(\"Temperature (F)\", fontsize = 20)\n",
    "ax1.set_ylabel(\"Frequency\", fontsize = 20, labelpad = 15)\n",
    "\n",
    "# Legend\n",
    "ax1.get_legend().remove()\n",
    "\n",
    "plt.show()\n",
    "\n",
    "fig.savefig('Images/temp_waihee_year.png', bbox_inches=\"tight\")"
   ]
  },
  {
   "cell_type": "markdown",
   "metadata": {},
   "source": [
    "# Bonus: Additional Analysis"
   ]
  },
  {
   "cell_type": "code",
   "execution_count": 20,
   "metadata": {},
   "outputs": [],
   "source": [
    "# Import weather station measurement csv into pandas\n",
    "measure_df = pd.read_csv('Data/hawaii_measurements.csv')"
   ]
  },
  {
   "cell_type": "markdown",
   "metadata": {},
   "source": [
    "## June vs. December Temperatures"
   ]
  },
  {
   "cell_type": "code",
   "execution_count": 21,
   "metadata": {},
   "outputs": [
    {
     "name": "stdout",
     "output_type": "stream",
     "text": [
      "\n",
      "    Average Temperatures:\n",
      "    June: 74.9\n",
      "    December: 71.0\n",
      "    \n"
     ]
    }
   ],
   "source": [
    "# Convert date column to datetime\n",
    "measure_df['date'] = pd.to_datetime(measure_df['date'])\n",
    "\n",
    "# Create june and december dataframes\n",
    "june_df = measure_df.loc[measure_df['date'].dt.month==6]\n",
    "dec_df = measure_df.loc[measure_df['date'].dt.month==12]\n",
    "\n",
    "# Calculate averages and display\n",
    "june_temp_avg = round(june_df['tobs'].mean(), 1)\n",
    "dec_temp_avg = round(dec_df['tobs'].mean(), 1)\n",
    "\n",
    "print(f'''\n",
    "    Average Temperatures:\n",
    "    June: {june_temp_avg}\n",
    "    December: {dec_temp_avg}\n",
    "    ''')"
   ]
  },
  {
   "cell_type": "code",
   "execution_count": 22,
   "metadata": {},
   "outputs": [
    {
     "name": "stdout",
     "output_type": "stream",
     "text": [
      "\n",
      "    June Temperature Stats Summary:\n",
      "        DescribeResult(nobs=1700, minmax=(64, 85), mean=74.94411764705882, variance=10.610765848422947, skewness=-0.2258766702189613, kurtosis=-0.4229534222260054)\n",
      "        \n",
      "    December Temperature Stats Summary:\n",
      "        DescribeResult(nobs=1517, minmax=(56, 83), mean=71.04152933421226, variance=14.031915337694345, skewness=-0.4050972954211533, kurtosis=0.45781715568357617)\n",
      "        \n",
      "    Levene test shows variances are not equal:\n",
      "        LeveneResult(statistic=11.486485455366319, pvalue=0.0007094853311953783)\n",
      "        \n",
      "    Independent t-test assuming unequal variance, shows that the means are statistically different:\n",
      "        Ttest_indResult(statistic=31.355036920962423, pvalue=4.193529835915755e-187)\n",
      "    \n"
     ]
    }
   ],
   "source": [
    "import scipy.stats as stats\n",
    "june_desc = stats.describe(june_df.tobs)\n",
    "dec_desc = stats.describe(dec_df.tobs)\n",
    "levene = stats.levene(june_df.tobs, dec_df.tobs)\n",
    "ttest = stats.ttest_ind(june_df.tobs, dec_df.tobs, equal_var=False)\n",
    "\n",
    "print(f'''\n",
    "    June Temperature Stats Summary:\n",
    "        {june_desc}\n",
    "        \n",
    "    December Temperature Stats Summary:\n",
    "        {dec_desc}\n",
    "        \n",
    "    Levene test shows variances are not equal:\n",
    "        {levene}\n",
    "        \n",
    "    Independent t-test assuming unequal variance, shows that the means are statistically different:\n",
    "        {ttest}\n",
    "    ''')"
   ]
  },
  {
   "cell_type": "markdown",
   "metadata": {},
   "source": [
    "* Unpaired (independent) t-test used due to Levene test showing unequal variances\n",
    "    * Addtionally, there are not the same number of data points and the data can be from different stations\n",
    "* The mean temperature difference between June and December is statistically significant"
   ]
  },
  {
   "cell_type": "markdown",
   "metadata": {},
   "source": [
    "## Temperature During Planned Trip\n",
    "    * Trip is planned 2018-05-20 to 2018-05-30"
   ]
  },
  {
   "cell_type": "code",
   "execution_count": 23,
   "metadata": {},
   "outputs": [],
   "source": [
    "# Function to return temperature min, max, and avg for date range input\n",
    "\n",
    "def calc_temps(start_date, end_date):\n",
    "    \"\"\"TMIN, TAVG, and TMAX for a date range.\n",
    "    \n",
    "    Args:\n",
    "        start_date (string): A date string in the format %Y-%m-%d\n",
    "        end_date (string): A date string in the format %Y-%m-%d\n",
    "        \n",
    "    Returns:\n",
    "        TMIN, TAVE, and TMAX\n",
    "    \"\"\"\n",
    "    \n",
    "    return session.query(func.min(Measurement.tobs), func.avg(Measurement.tobs), func.max(Measurement.tobs)).\\\n",
    "        filter(Measurement.date >= start_date).filter(Measurement.date <= end_date).all()"
   ]
  },
  {
   "cell_type": "code",
   "execution_count": 24,
   "metadata": {},
   "outputs": [
    {
     "data": {
      "text/plain": [
       "[(69.0, 75.23809523809524, 87.0)]"
      ]
     },
     "execution_count": 24,
     "metadata": {},
     "output_type": "execute_result"
    }
   ],
   "source": [
    "# Temperature stats during time of planned trip for the previous year\n",
    "trip_start = '2017-05-20'\n",
    "trip_end = '2017-05-30'\n",
    "temp_trip_df = calc_temps(trip_start, trip_end)\n",
    "temp_trip_df"
   ]
  },
  {
   "cell_type": "code",
   "execution_count": 25,
   "metadata": {},
   "outputs": [
    {
     "data": {
      "image/png": "[encoded data removed]",
      "text/plain": [
       "<Figure size 216x576 with 1 Axes>"
      ]
     },
     "metadata": {
      "needs_background": "light"
     },
     "output_type": "display_data"
    }
   ],
   "source": [
    "# Plot tempurature stats\n",
    "fig, ax1 = plt.subplots(figsize=(3,8))\n",
    "\n",
    "ax1.bar(0, temp_trip_df[0][1], yerr=temp_trip_df[0][2]-temp_trip_df[0][0], alpha=0.5)\n",
    "ax1.set_xlim(-0.6, 0.6)\n",
    "ax1.grid(axis='x')\n",
    "\n",
    "# Labels\n",
    "ax1.set_xticklabels([])\n",
    "ax1.set_yticks(range(0,110,10))\n",
    "ax1.tick_params(axis='both', which='both', labelsize=15)\n",
    "ax1.set_title('Trip Avg. Temp.', size=22, y = 1.03) \n",
    "ax1.set_ylabel(\"Temperature (F)\", fontsize = 20, labelpad = 10)\n",
    "\n",
    "plt.show()\n",
    "\n",
    "fig.savefig('Images/temp_avg_trip.png', bbox_inches=\"tight\")"
   ]
  },
  {
   "cell_type": "markdown",
   "metadata": {},
   "source": [
    "## Daily Rainfall Average\n",
    "    * Analyse possible rainfall during planned trip dates"
   ]
  },
  {
   "cell_type": "code",
   "execution_count": 26,
   "metadata": {},
   "outputs": [
    {
     "data": {
      "text/plain": [
       "[('USC00516128',\n",
       "  'MANOA LYON ARBO 785.2, HI US',\n",
       "  21.3331,\n",
       "  -157.8025,\n",
       "  152.4,\n",
       "  4.29),\n",
       " ('USC00519281',\n",
       "  'WAIHEE 837.5, HI US',\n",
       "  21.45167,\n",
       "  -157.84888999999998,\n",
       "  32.9,\n",
       "  2.25),\n",
       " ('USC00513117', 'KANEOHE 838.1, HI US', 21.4234, -157.8015, 14.6, 1.5),\n",
       " ('USC00519523',\n",
       "  'WAIMANALO EXPERIMENTAL FARM, HI US',\n",
       "  21.33556,\n",
       "  -157.71139,\n",
       "  19.5,\n",
       "  1.2700000000000002),\n",
       " ('USC00519397', 'WAIKIKI 717.2, HI US', 21.2716, -157.8168, 3.0, 0.65),\n",
       " ('USC00514830',\n",
       "  'KUALOA RANCH HEADQUARTERS 886.9, HI US',\n",
       "  21.5213,\n",
       "  -157.8374,\n",
       "  7.0,\n",
       "  0.35000000000000003)]"
      ]
     },
     "execution_count": 26,
     "metadata": {},
     "output_type": "execute_result"
    }
   ],
   "source": [
    "# Calculate the rainfall per weather station using the previous year's matching dates\n",
    "trip_prcp = session.query(Measurement.station, Station.name, Station.latitude, Station.longitude, Station.elevation, func.sum(Measurement.prcp)).\\\n",
    "    filter(Measurement.date >= trip_start).filter(Measurement.date <= trip_end).\\\n",
    "    filter(Measurement.station == Station.station).\\\n",
    "    group_by(Measurement.station).\\\n",
    "    order_by(func.sum(Measurement.prcp).desc()).all()\n",
    "\n",
    "trip_prcp"
   ]
  },
  {
   "cell_type": "markdown",
   "metadata": {},
   "source": [
    "## Trip Daily Temperature Normals\n",
    "    * Plot the daily min, max, and avg temperature for each day of the trip"
   ]
  },
  {
   "cell_type": "code",
   "execution_count": 27,
   "metadata": {},
   "outputs": [],
   "source": [
    "# Function to strip year from dates and return a list of each day\n",
    "\n",
    "def range_to_days(start, end):\n",
    "    '''\n",
    "    Args: \n",
    "        start/end: 'yyyy-mm-dd' format\n",
    "    \n",
    "    Returns:\n",
    "        List of days in the formats 'mm-dd'\n",
    "    '''\n",
    "    \n",
    "    day_list =[]\n",
    "    start_date = dt.datetime.strptime(start, \"%Y-%m-%d\")\n",
    "    end_date = dt.datetime.strptime(end, \"%Y-%m-%d\")\n",
    "    start_day = start_date.day\n",
    "    \n",
    "    while start_day <= end_date.day:\n",
    "        day_list.append(f'0{start_date.month}-{start_day}')\n",
    "        start_day += 1\n",
    "                        \n",
    "    return day_list"
   ]
  },
  {
   "cell_type": "code",
   "execution_count": 28,
   "metadata": {},
   "outputs": [],
   "source": [
    "# Query that will calculate the daily normals \n",
    "# (i.e. the averages for tmin, tmax, and tavg for all historic data matching a specific month and day)\n",
    "\n",
    "def daily_normals(date):\n",
    "    \"\"\"Daily Normals.\n",
    "    \n",
    "    Args:\n",
    "        date (str): A date string in the format '%m-%d'\n",
    "        \n",
    "    Returns:\n",
    "        A list of tuples containing the daily normals, tmin, tavg, and tmax\n",
    "    \n",
    "    \"\"\"\n",
    "    \n",
    "    sel = [func.min(Measurement.tobs), func.avg(Measurement.tobs), func.max(Measurement.tobs)]\n",
    "    return session.query(*sel).filter(func.strftime('%m-%d', Measurement.date) == date).all()"
   ]
  },
  {
   "cell_type": "code",
   "execution_count": 29,
   "metadata": {},
   "outputs": [
    {
     "name": "stdout",
     "output_type": "stream",
     "text": [
      "[(68.0, 73.89655172413794, 79.0), (64.0, 72.96428571428571, 80.0), (64.0, 74.45614035087719, 80.0), (68.0, 74.94827586206897, 87.0), (67.0, 73.94827586206897, 79.0), (68.0, 74.27586206896552, 79.0), (65.0, 74.03636363636363, 82.0), (65.0, 74.49090909090908, 80.0), (67.0, 74.27777777777777, 82.0), (64.0, 74.19607843137256, 80.0), (69.0, 74.33333333333333, 81.0)]\n"
     ]
    }
   ],
   "source": [
    "# Get list of days of trip in mm-dd format\n",
    "trip_days = range_to_days(trip_start, trip_end)\n",
    "\n",
    "# Append daily normals for tip days into normals list\n",
    "normals=[]\n",
    "for x in trip_days:\n",
    "    normals.append(daily_normals(x)[0])\n",
    "    \n",
    "# Print list containg temperature normals for each day\n",
    "print(normals)"
   ]
  },
  {
   "cell_type": "code",
   "execution_count": 30,
   "metadata": {},
   "outputs": [
    {
     "data": {
      "text/html": [
       "<div>\n",
       "<style scoped>\n",
       "    .dataframe tbody tr th:only-of-type {\n",
       "        vertical-align: middle;\n",
       "    }\n",
       "\n",
       "    .dataframe tbody tr th {\n",
       "        vertical-align: top;\n",
       "    }\n",
       "\n",
       "    .dataframe thead th {\n",
       "        text-align: right;\n",
       "    }\n",
       "</style>\n",
       "<table border=\"1\" class=\"dataframe\">\n",
       "  <thead>\n",
       "    <tr style=\"text-align: right;\">\n",
       "      <th></th>\n",
       "      <th>tmin</th>\n",
       "      <th>tavg</th>\n",
       "      <th>tmax</th>\n",
       "    </tr>\n",
       "  </thead>\n",
       "  <tbody>\n",
       "    <tr>\n",
       "      <th>2017-05-20</th>\n",
       "      <td>68.0</td>\n",
       "      <td>73.896552</td>\n",
       "      <td>79.0</td>\n",
       "    </tr>\n",
       "    <tr>\n",
       "      <th>2017-05-21</th>\n",
       "      <td>64.0</td>\n",
       "      <td>72.964286</td>\n",
       "      <td>80.0</td>\n",
       "    </tr>\n",
       "    <tr>\n",
       "      <th>2017-05-22</th>\n",
       "      <td>64.0</td>\n",
       "      <td>74.456140</td>\n",
       "      <td>80.0</td>\n",
       "    </tr>\n",
       "    <tr>\n",
       "      <th>2017-05-23</th>\n",
       "      <td>68.0</td>\n",
       "      <td>74.948276</td>\n",
       "      <td>87.0</td>\n",
       "    </tr>\n",
       "    <tr>\n",
       "      <th>2017-05-24</th>\n",
       "      <td>67.0</td>\n",
       "      <td>73.948276</td>\n",
       "      <td>79.0</td>\n",
       "    </tr>\n",
       "    <tr>\n",
       "      <th>2017-05-25</th>\n",
       "      <td>68.0</td>\n",
       "      <td>74.275862</td>\n",
       "      <td>79.0</td>\n",
       "    </tr>\n",
       "    <tr>\n",
       "      <th>2017-05-26</th>\n",
       "      <td>65.0</td>\n",
       "      <td>74.036364</td>\n",
       "      <td>82.0</td>\n",
       "    </tr>\n",
       "    <tr>\n",
       "      <th>2017-05-27</th>\n",
       "      <td>65.0</td>\n",
       "      <td>74.490909</td>\n",
       "      <td>80.0</td>\n",
       "    </tr>\n",
       "    <tr>\n",
       "      <th>2017-05-28</th>\n",
       "      <td>67.0</td>\n",
       "      <td>74.277778</td>\n",
       "      <td>82.0</td>\n",
       "    </tr>\n",
       "    <tr>\n",
       "      <th>2017-05-29</th>\n",
       "      <td>64.0</td>\n",
       "      <td>74.196078</td>\n",
       "      <td>80.0</td>\n",
       "    </tr>\n",
       "    <tr>\n",
       "      <th>2017-05-30</th>\n",
       "      <td>69.0</td>\n",
       "      <td>74.333333</td>\n",
       "      <td>81.0</td>\n",
       "    </tr>\n",
       "  </tbody>\n",
       "</table>\n",
       "</div>"
      ],
      "text/plain": [
       "            tmin       tavg  tmax\n",
       "2017-05-20  68.0  73.896552  79.0\n",
       "2017-05-21  64.0  72.964286  80.0\n",
       "2017-05-22  64.0  74.456140  80.0\n",
       "2017-05-23  68.0  74.948276  87.0\n",
       "2017-05-24  67.0  73.948276  79.0\n",
       "2017-05-25  68.0  74.275862  79.0\n",
       "2017-05-26  65.0  74.036364  82.0\n",
       "2017-05-27  65.0  74.490909  80.0\n",
       "2017-05-28  67.0  74.277778  82.0\n",
       "2017-05-29  64.0  74.196078  80.0\n",
       "2017-05-30  69.0  74.333333  81.0"
      ]
     },
     "execution_count": 30,
     "metadata": {},
     "output_type": "execute_result"
    }
   ],
   "source": [
    "# Convert dates to pandas datetime and then to python datetime for matplotlib plotting\n",
    "index = pd.date_range(start = trip_start, end = trip_end, freq = \"D\")\n",
    "index = [pd.to_datetime(date, format='%Y-%m-%d').date() for date in index]\n",
    "\n",
    "# Create pandas datafreame using normals list and converted dates\n",
    "trip_normals_df = pd.DataFrame(normals, columns=['tmin', 'tavg', 'tmax'], index=index)\n",
    "\n",
    "trip_normals_df"
   ]
  },
  {
   "cell_type": "code",
   "execution_count": 31,
   "metadata": {},
   "outputs": [
    {
     "data": {
      "image/png": "[encoded data removed]",
      "text/plain": [
       "<Figure size 720x576 with 1 Axes>"
      ]
     },
     "metadata": {
      "needs_background": "light"
     },
     "output_type": "display_data"
    }
   ],
   "source": [
    "# Plot unstacked areas of trip_normals_df\n",
    "fig, ax1 = plt.subplots(figsize=(10,8))\n",
    "trip_normals_df.plot.area(ax=ax1, stacked=False, alpha=0.3)\n",
    "\n",
    "# Axis\n",
    "ax1.set_ylim(56, 90)\n",
    "ax1.grid(which='both', axis='both' , linestyle='-', linewidth=2)\n",
    "\n",
    "# Ticks\n",
    "ax1.tick_params(axis='x', which='both', labelsize=12, pad=5, rotation=35)\n",
    "ax1.tick_params(axis='y', which='both', labelsize=15, pad=15)\n",
    "plt.setp(ax1.xaxis.get_majorticklabels(), ha=\"right\" )\n",
    "\n",
    "# Axis Labels\n",
    "ax1.set_title('Trip Daily Temp. Normals', size=22, y = 1.03) \n",
    "ax1.set_ylabel(\"Temperature (F)\", fontsize = 20, labelpad = 10)\n",
    "ax1.set_xlabel(\"Date\", fontsize = 20, labelpad = 15)\n",
    "\n",
    "# Legend\n",
    "plt.setp(ax1.get_legend().get_texts(), fontsize='18')\n",
    "\n",
    "plt.show()\n",
    "\n",
    "fig.savefig('Images/trip_normals.png', bbox_inches=\"tight\")"
   ]
  },
  {
   "cell_type": "code",
   "execution_count": null,
   "metadata": {},
   "outputs": [],
   "source": []
  }
 ],
 "metadata": {
  "kernel_info": {
   "name": "python3"
  },
  "kernelspec": {
   "display_name": "Python 3",
   "language": "python",
   "name": "python3"
  },
  "language_info": {
   "codemirror_mode": {
    "name": "ipython",
    "version": 3
   },
   "file_extension": ".py",
   "mimetype": "text/x-python",
   "name": "python",
   "nbconvert_exporter": "python",
   "pygments_lexer": "ipython3",
   "version": "3.7.3"
  },
  "nteract": {
   "version": "0.12.3"
  },
  "varInspector": {
   "cols": {
    "lenName": 16,
    "lenType": 16,
    "lenVar": 40
   },
   "kernels_config": {
    "python": {
     "delete_cmd_postfix": "",
     "delete_cmd_prefix": "del ",
     "library": "var_list.py",
     "varRefreshCmd": "print(var_dic_list())"
    },
    "r": {
     "delete_cmd_postfix": ") ",
     "delete_cmd_prefix": "rm(",
     "library": "var_list.r",
     "varRefreshCmd": "cat(var_dic_list()) "
    }
   },
   "types_to_exclude": [
    "module",
    "function",
    "builtin_function_or_method",
    "instance",
    "_Feature"
   ],
   "window_display": false
  }
 },
 "nbformat": 4,
 "nbformat_minor": 4
}
